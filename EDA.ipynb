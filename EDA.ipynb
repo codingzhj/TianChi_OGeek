{
 "cells": [
  {
   "cell_type": "code",
   "execution_count": 33,
   "metadata": {},
   "outputs": [
    {
     "name": "stderr",
     "output_type": "stream",
     "text": [
      "E:\\Anaconda3\\envs\\tensorflow-gpu\\lib\\site-packages\\IPython\\core\\interactiveshell.py:2698: DtypeWarning: Columns (4) have mixed types. Specify dtype option on import or set low_memory=False.\n",
      "  interactivity=interactivity, compiler=compiler, result=result)\n"
     ]
    },
    {
     "data": {
      "text/html": [
       "<div>\n",
       "<style>\n",
       "    .dataframe thead tr:only-child th {\n",
       "        text-align: right;\n",
       "    }\n",
       "\n",
       "    .dataframe thead th {\n",
       "        text-align: left;\n",
       "    }\n",
       "\n",
       "    .dataframe tbody tr th {\n",
       "        vertical-align: top;\n",
       "    }\n",
       "</style>\n",
       "<table border=\"1\" class=\"dataframe\">\n",
       "  <thead>\n",
       "    <tr style=\"text-align: right;\">\n",
       "      <th></th>\n",
       "      <th>prefix</th>\n",
       "      <th>query_prediction</th>\n",
       "      <th>title</th>\n",
       "      <th>tag</th>\n",
       "      <th>label</th>\n",
       "    </tr>\n",
       "  </thead>\n",
       "  <tbody>\n",
       "    <tr>\n",
       "      <th>0</th>\n",
       "      <td>小品</td>\n",
       "      <td>{\"小品大全宋小宝\": \"0.009\", \"小品相亲\": \"0.012\", \"小品剧本\": ...</td>\n",
       "      <td>小品</td>\n",
       "      <td>阅读</td>\n",
       "      <td>0</td>\n",
       "    </tr>\n",
       "    <tr>\n",
       "      <th>1</th>\n",
       "      <td>1368</td>\n",
       "      <td>{\"13688cc赛马会\": \"0.059\", \"13685367892\": \"0.124\"...</td>\n",
       "      <td>HCG大于1368%2C正常吗</td>\n",
       "      <td>健康</td>\n",
       "      <td>0</td>\n",
       "    </tr>\n",
       "    <tr>\n",
       "      <th>2</th>\n",
       "      <td>1368</td>\n",
       "      <td>{\"13688cc赛马会\": \"0.059\", \"13685367892\": \"0.124\"...</td>\n",
       "      <td>1368年</td>\n",
       "      <td>百科</td>\n",
       "      <td>1</td>\n",
       "    </tr>\n",
       "    <tr>\n",
       "      <th>3</th>\n",
       "      <td>银耳</td>\n",
       "      <td>{\"银耳汤的功效\": \"0.012\", \"银耳为什么不能天天吃\": \"0.009\", \"银耳...</td>\n",
       "      <td>银耳红枣汤的做法</td>\n",
       "      <td>菜谱</td>\n",
       "      <td>1</td>\n",
       "    </tr>\n",
       "    <tr>\n",
       "      <th>4</th>\n",
       "      <td>月经量少</td>\n",
       "      <td>{\"月经量少喝红糖水好吗\": \"0.010\", \"月经量少该怎么调理\": \"0.016\", ...</td>\n",
       "      <td>月经量少怎么调理</td>\n",
       "      <td>百科</td>\n",
       "      <td>0</td>\n",
       "    </tr>\n",
       "  </tbody>\n",
       "</table>\n",
       "</div>"
      ],
      "text/plain": [
       "  prefix                                   query_prediction            title  \\\n",
       "0     小品  {\"小品大全宋小宝\": \"0.009\", \"小品相亲\": \"0.012\", \"小品剧本\": ...               小品   \n",
       "1   1368  {\"13688cc赛马会\": \"0.059\", \"13685367892\": \"0.124\"...  HCG大于1368%2C正常吗   \n",
       "2   1368  {\"13688cc赛马会\": \"0.059\", \"13685367892\": \"0.124\"...            1368年   \n",
       "3     银耳  {\"银耳汤的功效\": \"0.012\", \"银耳为什么不能天天吃\": \"0.009\", \"银耳...         银耳红枣汤的做法   \n",
       "4   月经量少  {\"月经量少喝红糖水好吗\": \"0.010\", \"月经量少该怎么调理\": \"0.016\", ...         月经量少怎么调理   \n",
       "\n",
       "  tag label  \n",
       "0  阅读     0  \n",
       "1  健康     0  \n",
       "2  百科     1  \n",
       "3  菜谱     1  \n",
       "4  百科     0  "
      ]
     },
     "execution_count": 33,
     "metadata": {},
     "output_type": "execute_result"
    }
   ],
   "source": [
    "import pandas as pd\n",
    "import numpy as np\n",
    "\n",
    "data = pd.read_csv('C:/Users/76000/Desktop/tianchi/oppo/oppo_round1_train_20180929.txt', sep='\\t', header=None,\n",
    "                     names = ['prefix','query_prediction','title','tag','label'])\n",
    "\n",
    "data.head()"
   ]
  },
  {
   "cell_type": "code",
   "execution_count": 24,
   "metadata": {},
   "outputs": [
    {
     "data": {
      "text/plain": [
       "(1999999, 5)"
      ]
     },
     "execution_count": 24,
     "metadata": {},
     "output_type": "execute_result"
    }
   ],
   "source": [
    "data.shape"
   ]
  },
  {
   "cell_type": "code",
   "execution_count": 26,
   "metadata": {},
   "outputs": [],
   "source": [
    "temp = data.loc[0]"
   ]
  },
  {
   "cell_type": "code",
   "execution_count": 27,
   "metadata": {},
   "outputs": [
    {
     "data": {
      "text/plain": [
       "'{\"小品大全宋小宝\": \"0.009\", \"小品相亲\": \"0.012\", \"小品剧本\": \"0.020\", \"小品搞笑大全\": \"0.066\", \"小品不差钱\": \"0.007\", \"小品搞笑大全剧本\": \"0.010\", \"小品大全\": \"0.198\", \"小品演员\": \"0.024\", \"小品视频\": \"0.010\", \"小品大全剧本幽默大全\": \"0.017\"}'"
      ]
     },
     "execution_count": 27,
     "metadata": {},
     "output_type": "execute_result"
    }
   ],
   "source": [
    "temp.query_prediction"
   ]
  },
  {
   "cell_type": "code",
   "execution_count": 28,
   "metadata": {},
   "outputs": [
    {
     "data": {
      "text/plain": [
       "array(['阅读', '健康', '百科', '菜谱', '应用', '经验', '知道', '音乐', '游戏', '网站', '影视',\n",
       "       '旅游', '快应用', '汽车', '歌手', '网页', '景点', '火车', '商品', '酒店', '航班', '推广',\n",
       "       '等你花开花又落'], dtype=object)"
      ]
     },
     "execution_count": 28,
     "metadata": {},
     "output_type": "execute_result"
    }
   ],
   "source": [
    "data.tag.unique()"
   ]
  },
  {
   "cell_type": "code",
   "execution_count": 29,
   "metadata": {},
   "outputs": [
    {
     "data": {
      "text/plain": [
       "23"
      ]
     },
     "execution_count": 29,
     "metadata": {},
     "output_type": "execute_result"
    }
   ],
   "source": [
    "len(data.tag.unique())"
   ]
  },
  {
   "cell_type": "code",
   "execution_count": 36,
   "metadata": {},
   "outputs": [
    {
     "name": "stdout",
     "output_type": "stream",
     "text": [
      "[[  5.38140000e+04   2.45950000e+04]\n",
      " [  9.19790000e+04   4.77250000e+04]\n",
      " [  4.06528000e+05   3.15568000e+05]\n",
      " [  5.20450000e+04   4.33990000e+04]\n",
      " [  2.00060000e+05   1.30703000e+05]\n",
      " [  6.20990000e+04   6.37080000e+04]\n",
      " [  9.19260000e+04   3.97650000e+04]\n",
      " [  5.24300000e+04   2.48210000e+04]\n",
      " [  6.90500000e+03   6.86600000e+03]\n",
      " [  6.91760000e+04   8.35500000e+04]\n",
      " [  1.71240000e+04   1.07300000e+04]\n",
      " [  1.45170000e+04   3.77800000e+03]\n",
      " [  1.94330000e+04   7.72400000e+03]\n",
      " [  1.10220000e+04   1.47010000e+04]\n",
      " [  1.25580000e+04   2.33500000e+03]\n",
      " [  1.22300000e+03   3.27000000e+02]\n",
      " [  5.26000000e+03   3.86700000e+03]\n",
      " [  3.38000000e+02   8.33000000e+02]\n",
      " [  3.66800000e+03   9.13000000e+02]\n",
      " [  7.95000000e+02   2.69000000e+02]\n",
      " [  6.24000000e+02   2.93000000e+02]\n",
      " [  4.00000000e+00   0.00000000e+00]\n",
      " [  0.00000000e+00   1.00000000e+00]]\n"
     ]
    }
   ],
   "source": [
    "import scipy.io\n",
    "import matplotlib.pylab as pylab\n",
    "import matplotlib.pyplot as plt\n",
    "import matplotlib.ticker as mtick\n",
    "\n",
    "tag_list = list(data.tag.unique())\n",
    "\n",
    "bar_count = np.zeros((len(data.tag.unique()),2))\n",
    "\n",
    "for i in range(0,data.shape[0]):\n",
    "    t = data.loc[i].tag\n",
    "    l = data.loc[i].label\n",
    "    index = tag_list.index(t)\n",
    "    if l == 0:\n",
    "        bar_count[index][0] += 1\n",
    "    else:\n",
    "        bar_count[index][1] += 1\n",
    "print(bar_count)"
   ]
  },
  {
   "cell_type": "code",
   "execution_count": 37,
   "metadata": {},
   "outputs": [
    {
     "data": {
      "text/plain": [
       "1999999.0"
      ]
     },
     "execution_count": 37,
     "metadata": {},
     "output_type": "execute_result"
    }
   ],
   "source": [
    "sum(sum(bar_count))"
   ]
  },
  {
   "cell_type": "code",
   "execution_count": 38,
   "metadata": {},
   "outputs": [
    {
     "data": {
      "text/plain": [
       "1.0"
      ]
     },
     "execution_count": 38,
     "metadata": {},
     "output_type": "execute_result"
    }
   ],
   "source": [
    "bar_count[22][1]"
   ]
  },
  {
   "cell_type": "code",
   "execution_count": 39,
   "metadata": {},
   "outputs": [
    {
     "data": {
      "text/plain": [
       "0.0"
      ]
     },
     "execution_count": 39,
     "metadata": {},
     "output_type": "execute_result"
    }
   ],
   "source": [
    "bar_count[22][0]"
   ]
  },
  {
   "cell_type": "code",
   "execution_count": 57,
   "metadata": {},
   "outputs": [
    {
     "name": "stderr",
     "output_type": "stream",
     "text": [
      "E:\\Anaconda3\\envs\\tensorflow-gpu\\lib\\site-packages\\matplotlib\\font_manager.py:1297: UserWarning: findfont: Font family ['STKAITI'] not found. Falling back to DejaVu Sans\n",
      "  (prop.get_family(), self.defaultFamily[fontext]))\n"
     ]
    },
    {
     "data": {
      "image/png": "[encoded data removed]",
      "text/plain": [
       "<matplotlib.figure.Figure at 0x1b24ba21048>"
      ]
     },
     "metadata": {},
     "output_type": "display_data"
    }
   ],
   "source": [
    "total_width, n = 0.8, 2\n",
    "width = total_width / n\n",
    "x=list(range(0,len(data.tag.unique())))\n",
    "\n",
    "fig = plt.figure(figsize=(20,7))\n",
    "\n",
    "a=plt.bar(x, bar_count[:,0], width=width, label='0',fc = 'y')\n",
    "for i in range(len(x)):\n",
    "    x[i] = x[i] + width\n",
    "b=plt.bar(x, bar_count[:,1], width=width, label='1',tick_label = tag_list, fc = 'r')\n",
    "\n",
    "plt.xticks(list(range(0,len(data.tag.unique()))),tag_list)\n",
    "\n",
    "plt.show()\n"
   ]
  },
  {
   "cell_type": "code",
   "execution_count": 63,
   "metadata": {},
   "outputs": [
    {
     "name": "stdout",
     "output_type": "stream",
     "text": [
      "[0.31367572600084176, 0.3416151291301609, 0.4370166847621369, 0.45470642470977746, 0.39515604828835149, 0.50639471571534178, 0.30195685354352236, 0.32130328409988218, 0.49858398082927891, 0.54705813024632344, 0.38522294823005671, 0.20650450942880569, 0.28442022314688664, 0.57151187653073121, 0.15678506680991069, 0.21096774193548387, 0.42368795880354992, 0.71135781383432961, 0.19930146256275921, 0.25281954887218044, 0.31952017448200654, 0.0, 1]\n"
     ]
    }
   ],
   "source": [
    "rate = []\n",
    "for i in range(0,bar_count.shape[0]):\n",
    "    if bar_count[i][0] == 0:\n",
    "        r = 1\n",
    "    else:\n",
    "        r = bar_count[i][1]/(bar_count[i][0] + bar_count[i][1])\n",
    "    rate.append(r)\n",
    "print(rate)"
   ]
  },
  {
   "cell_type": "code",
   "execution_count": 64,
   "metadata": {},
   "outputs": [
    {
     "name": "stdout",
     "output_type": "stream",
     "text": [
      "{'阅读': 0.31367572600084176, '健康': 0.3416151291301609, '百科': 0.4370166847621369, '菜谱': 0.45470642470977746, '应用': 0.39515604828835149, '经验': 0.50639471571534178, '知道': 0.30195685354352236, '音乐': 0.32130328409988218, '游戏': 0.49858398082927891, '网站': 0.54705813024632344, '影视': 0.38522294823005671, '旅游': 0.20650450942880569, '快应用': 0.28442022314688664, '汽车': 0.57151187653073121, '歌手': 0.15678506680991069, '网页': 0.21096774193548387, '景点': 0.42368795880354992, '火车': 0.71135781383432961, '商品': 0.19930146256275921, '酒店': 0.25281954887218044, '航班': 0.31952017448200654, '推广': 0.0, '等你花开花又落': 1}\n"
     ]
    }
   ],
   "source": [
    "tag_dict = dict(zip(tag_list,rate))\n",
    "print(tag_dict)"
   ]
  },
  {
   "cell_type": "code",
   "execution_count": 65,
   "metadata": {},
   "outputs": [
    {
     "name": "stderr",
     "output_type": "stream",
     "text": [
      "IOPub data rate exceeded.\n",
      "The notebook server will temporarily stop sending output\n",
      "to the client in order to avoid crashing it.\n",
      "To change this limit, set the config variable\n",
      "`--NotebookApp.iopub_data_rate_limit`.\n",
      "\n",
      "Current values:\n",
      "NotebookApp.iopub_data_rate_limit=1000000.0 (bytes/sec)\n",
      "NotebookApp.rate_limit_window=3.0 (secs)\n",
      "\n"
     ]
    }
   ],
   "source": [
    "#根据tag属性制作RATE属性\n",
    "RATE = []\n",
    "for i in range(0,data.shape[0]):\n",
    "    key = data.loc[i].tag\n",
    "    temp = tag_dict.get(key)\n",
    "    RATE.append(temp)\n",
    "print(RATE)"
   ]
  },
  {
   "cell_type": "code",
   "execution_count": 66,
   "metadata": {},
   "outputs": [
    {
     "data": {
      "text/plain": [
       "1999999"
      ]
     },
     "execution_count": 66,
     "metadata": {},
     "output_type": "execute_result"
    }
   ],
   "source": [
    "len(RATE)"
   ]
  },
  {
   "cell_type": "code",
   "execution_count": 67,
   "metadata": {},
   "outputs": [],
   "source": [
    "LABEL = data.label"
   ]
  },
  {
   "cell_type": "code",
   "execution_count": 68,
   "metadata": {},
   "outputs": [
    {
     "data": {
      "text/plain": [
       "list"
      ]
     },
     "execution_count": 68,
     "metadata": {},
     "output_type": "execute_result"
    }
   ],
   "source": [
    "type(RATE)"
   ]
  },
  {
   "cell_type": "code",
   "execution_count": 69,
   "metadata": {},
   "outputs": [],
   "source": [
    "LABEL = list(data.label)"
   ]
  },
  {
   "cell_type": "code",
   "execution_count": 70,
   "metadata": {},
   "outputs": [
    {
     "data": {
      "text/plain": [
       "1999999"
      ]
     },
     "execution_count": 70,
     "metadata": {},
     "output_type": "execute_result"
    }
   ],
   "source": [
    "len(LABEL)"
   ]
  },
  {
   "cell_type": "code",
   "execution_count": null,
   "metadata": {},
   "outputs": [],
   "source": [
    "######       'RATE' : RATE     ########            ###########      'LABEL' : LABEL       ##########"
   ]
  },
  {
   "cell_type": "code",
   "execution_count": 91,
   "metadata": {},
   "outputs": [
    {
     "name": "stdout",
     "output_type": "stream",
     "text": [
      "{'小品大全宋小宝': '0.009', '小品相亲': '0.012', '小品剧本': '0.020', '小品搞笑大全': '0.066', '小品不差钱': '0.007', '小品搞笑大全剧本': '0.010', '小品大全': '0.198', '小品演员': '0.024', '小品视频': '0.010', '小品大全剧本幽默大全': '0.017'}\n",
      "<class 'dict'>\n"
     ]
    }
   ],
   "source": [
    "sub_data = data.query_prediction\n",
    "temp = eval(sub_data[0])\n",
    "print(temp)\n",
    "print(type(temp))"
   ]
  },
  {
   "cell_type": "code",
   "execution_count": 94,
   "metadata": {},
   "outputs": [
    {
     "name": "stdout",
     "output_type": "stream",
     "text": [
      "<class 'list'>\n"
     ]
    }
   ],
   "source": [
    "v = list(temp.values())\n",
    "print(type(v))"
   ]
  },
  {
   "cell_type": "code",
   "execution_count": 101,
   "metadata": {},
   "outputs": [
    {
     "name": "stdout",
     "output_type": "stream",
     "text": [
      "[0.009, 0.012, 0.02, 0.066, 0.007, 0.01, 0.198, 0.024, 0.01, 0.017]\n"
     ]
    }
   ],
   "source": [
    "V = list(map(float,v))\n",
    "print(V)"
   ]
  },
  {
   "cell_type": "code",
   "execution_count": 102,
   "metadata": {},
   "outputs": [],
   "source": [
    "V = np.array(V)"
   ]
  },
  {
   "cell_type": "code",
   "execution_count": 103,
   "metadata": {},
   "outputs": [
    {
     "data": {
      "text/plain": [
       "array([ 0.009,  0.012,  0.02 ,  0.066,  0.007,  0.01 ,  0.198,  0.024,\n",
       "        0.01 ,  0.017])"
      ]
     },
     "execution_count": 103,
     "metadata": {},
     "output_type": "execute_result"
    }
   ],
   "source": [
    "V"
   ]
  },
  {
   "cell_type": "code",
   "execution_count": 106,
   "metadata": {},
   "outputs": [
    {
     "name": "stdout",
     "output_type": "stream",
     "text": [
      "0.198\n"
     ]
    }
   ],
   "source": [
    "print(V.max())"
   ]
  },
  {
   "cell_type": "code",
   "execution_count": 107,
   "metadata": {},
   "outputs": [
    {
     "name": "stdout",
     "output_type": "stream",
     "text": [
      "10\n"
     ]
    }
   ],
   "source": [
    "print(V.shape[0])"
   ]
  },
  {
   "cell_type": "code",
   "execution_count": 108,
   "metadata": {},
   "outputs": [
    {
     "name": "stdout",
     "output_type": "stream",
     "text": [
      "0.0560232987247\n"
     ]
    }
   ],
   "source": [
    "print(V.std())"
   ]
  },
  {
   "cell_type": "code",
   "execution_count": 112,
   "metadata": {},
   "outputs": [
    {
     "name": "stdout",
     "output_type": "stream",
     "text": [
      "1999999\n",
      "1999999\n",
      "1999999\n"
     ]
    }
   ],
   "source": [
    "MAX = []\n",
    "COUNT = []\n",
    "STD = []\n",
    "\n",
    "for i in range(0,data.shape[0]):\n",
    "    temp = eval(sub_data[i])\n",
    "    v = list(temp.values())\n",
    "    V = list(map(float,v))\n",
    "    V = np.array(V)\n",
    "    if V.shape[0] == 0:\n",
    "        max = 0\n",
    "        std = 0\n",
    "    else:\n",
    "        max = V.max()\n",
    "        std = V.std()\n",
    "    MAX.append(max)\n",
    "    COUNT.append(V.shape[0])\n",
    "    STD.append(std)\n",
    "print(len(MAX))\n",
    "print(len(COUNT))\n",
    "print(len(STD))"
   ]
  },
  {
   "cell_type": "code",
   "execution_count": 114,
   "metadata": {},
   "outputs": [],
   "source": [
    "train_x = pd.DataFrame({'RATE':RATE, 'MAX':MAX, 'STD':STD, 'COUNT':COUNT})\n",
    "train_y = pd.DataFrame({'LABEL':LABEL})"
   ]
  },
  {
   "cell_type": "code",
   "execution_count": 116,
   "metadata": {},
   "outputs": [],
   "source": [
    "train_x.to_csv('train_x.csv', index = False)\n",
    "train_y.to_csv('train_y.csv', index = False)"
   ]
  },
  {
   "cell_type": "code",
   "execution_count": 1,
   "metadata": {},
   "outputs": [
    {
     "name": "stderr",
     "output_type": "stream",
     "text": [
      "E:\\Anaconda3\\envs\\tensorflow-gpu\\lib\\site-packages\\IPython\\core\\interactiveshell.py:2698: DtypeWarning: Columns (4) have mixed types. Specify dtype option on import or set low_memory=False.\n",
      "  interactivity=interactivity, compiler=compiler, result=result)\n"
     ]
    }
   ],
   "source": [
    "import pandas as pd\n",
    "import numpy as np\n",
    "\n",
    "data = pd.read_csv('C:/Users/76000/Desktop/tianchi/oppo/oppo_round1_train_20180929.txt', sep='\\t', header=None,\n",
    "                     names = ['prefix','query_prediction','title','tag','label'])\n",
    "\n",
    "tag_list = list(data.tag.unique())\n",
    "\n",
    "bar_count = np.zeros((len(data.tag.unique()),2))\n",
    "\n",
    "for i in range(0,data.shape[0]):\n",
    "    t = data.loc[i].tag\n",
    "    l = data.loc[i].label\n",
    "    index = tag_list.index(t)\n",
    "    if l == 0:\n",
    "        bar_count[index][0] += 1\n",
    "    else:\n",
    "        bar_count[index][1] += 1\n",
    "        \n",
    "rate = []\n",
    "for i in range(0,bar_count.shape[0]):\n",
    "    if bar_count[i][0] == 0:\n",
    "        r = 1\n",
    "    else:\n",
    "        r = bar_count[i][1]/(bar_count[i][0] + bar_count[i][1])\n",
    "    rate.append(r)\n",
    "\n",
    "tag_dict = dict(zip(tag_list,rate))\n",
    "\n",
    "RATE = []\n",
    "for i in range(0,data.shape[0]):\n",
    "    key = data.loc[i].tag\n",
    "    temp = tag_dict.get(key)\n",
    "    RATE.append(temp)\n",
    "\n",
    "LABEL = list(data.label)\n",
    "\n",
    "sub_data = data.query_prediction\n",
    "\n",
    "MAX = []\n",
    "COUNT = []\n",
    "STD = []\n",
    "\n",
    "for i in range(0,data.shape[0]):\n",
    "    temp = eval(sub_data[i])\n",
    "    v = list(temp.values())\n",
    "    V = list(map(float,v))\n",
    "    V = np.array(V)\n",
    "    if V.shape[0] == 0:\n",
    "        max = 0\n",
    "        std = 0\n",
    "    else:\n",
    "        max = V.max()\n",
    "        std = V.std()\n",
    "    MAX.append(max)\n",
    "    COUNT.append(V.shape[0])\n",
    "    STD.append(std)\n",
    "\n",
    "train_x = pd.DataFrame({'RATE':RATE, 'MAX':MAX, 'STD':STD, 'COUNT':COUNT})\n",
    "train_y = pd.DataFrame({'LABEL':LABEL})\n",
    "\n",
    "train_x.to_csv('train_x.csv', index = False)\n",
    "train_y.to_csv('train_y.csv', index = False)"
   ]
  },
  {
   "cell_type": "code",
   "execution_count": 2,
   "metadata": {},
   "outputs": [],
   "source": [
    "l = []\n",
    "for i in range(0,data.shape[0]):\n",
    "    if LABEL[i] == 0:\n",
    "        l.append(0)\n",
    "    else:\n",
    "        l.append(1)\n",
    "train_y = pd.DataFrame({'LABEL':l})\n",
    "train_y.to_csv('train_y.csv', index = False)"
   ]
  },
  {
   "cell_type": "code",
   "execution_count": 5,
   "metadata": {},
   "outputs": [
    {
     "data": {
      "text/plain": [
       "<matplotlib.figure.Figure at 0x17f5d72d748>"
      ]
     },
     "metadata": {},
     "output_type": "display_data"
    },
    {
     "data": {
      "image/png": "[encoded data removed]",
      "text/plain": [
       "<matplotlib.figure.Figure at 0x17f5d889ac8>"
      ]
     },
     "metadata": {},
     "output_type": "display_data"
    }
   ],
   "source": [
    "import pandas as pd\n",
    "import numpy as np\n",
    "import matplotlib.pyplot as plt\n",
    "import seaborn as sns\n",
    "\n",
    "x = pd.read_csv('C:/Users/76000/Desktop/tianchi/oppo/train_x.csv')\n",
    "y = pd.read_csv('C:/Users/76000/Desktop/tianchi/oppo/train_y.csv')\n",
    "\n",
    "data = x.join(y)\n",
    "cormat = data.corr()\n",
    "f, ax = plt.subplots(figsize = (10,7))\n",
    "sns.heatmap(cormat, annot = True, linewidths = 0.05, ax = ax)\n",
    "plt.show()"
   ]
  },
  {
   "cell_type": "code",
   "execution_count": 1,
   "metadata": {
    "scrolled": true
   },
   "outputs": [
    {
     "name": "stderr",
     "output_type": "stream",
     "text": [
      "E:\\Anaconda3\\envs\\tensorflow-gpu\\lib\\site-packages\\IPython\\core\\interactiveshell.py:2698: DtypeWarning: Columns (4) have mixed types. Specify dtype option on import or set low_memory=False.\n",
      "  interactivity=interactivity, compiler=compiler, result=result)\n"
     ]
    },
    {
     "name": "stdout",
     "output_type": "stream",
     "text": [
      "1 / 400\n",
      "2 / 400\n",
      "3 / 400\n",
      "4 / 400\n",
      "5 / 400\n",
      "6 / 400\n",
      "7 / 400\n",
      "8 / 400\n",
      "9 / 400\n",
      "10 / 400\n",
      "11 / 400\n",
      "12 / 400\n",
      "13 / 400\n",
      "14 / 400\n",
      "15 / 400\n",
      "16 / 400\n",
      "17 / 400\n",
      "18 / 400\n",
      "19 / 400\n",
      "20 / 400\n",
      "21 / 400\n",
      "22 / 400\n",
      "23 / 400\n",
      "24 / 400\n",
      "25 / 400\n",
      "26 / 400\n",
      "27 / 400\n",
      "28 / 400\n",
      "29 / 400\n",
      "30 / 400\n",
      "31 / 400\n",
      "32 / 400\n",
      "33 / 400\n",
      "34 / 400\n",
      "35 / 400\n",
      "36 / 400\n",
      "37 / 400\n",
      "38 / 400\n",
      "39 / 400\n",
      "40 / 400\n",
      "41 / 400\n",
      "42 / 400\n",
      "43 / 400\n",
      "44 / 400\n",
      "45 / 400\n",
      "46 / 400\n",
      "47 / 400\n",
      "48 / 400\n",
      "49 / 400\n",
      "50 / 400\n",
      "51 / 400\n",
      "52 / 400\n",
      "53 / 400\n",
      "54 / 400\n",
      "55 / 400\n",
      "56 / 400\n",
      "57 / 400\n",
      "58 / 400\n",
      "59 / 400\n",
      "60 / 400\n",
      "61 / 400\n",
      "62 / 400\n",
      "63 / 400\n",
      "64 / 400\n",
      "65 / 400\n",
      "66 / 400\n",
      "67 / 400\n",
      "68 / 400\n",
      "69 / 400\n",
      "70 / 400\n",
      "71 / 400\n",
      "72 / 400\n",
      "73 / 400\n",
      "74 / 400\n",
      "75 / 400\n",
      "76 / 400\n",
      "77 / 400\n",
      "78 / 400\n",
      "79 / 400\n",
      "80 / 400\n",
      "81 / 400\n",
      "82 / 400\n",
      "83 / 400\n",
      "84 / 400\n",
      "85 / 400\n",
      "86 / 400\n",
      "87 / 400\n",
      "88 / 400\n",
      "89 / 400\n",
      "90 / 400\n",
      "91 / 400\n",
      "92 / 400\n",
      "93 / 400\n",
      "94 / 400\n",
      "95 / 400\n",
      "96 / 400\n",
      "97 / 400\n",
      "98 / 400\n",
      "99 / 400\n",
      "100 / 400\n",
      "101 / 400\n",
      "102 / 400\n",
      "103 / 400\n",
      "104 / 400\n",
      "105 / 400\n",
      "106 / 400\n",
      "107 / 400\n",
      "108 / 400\n",
      "109 / 400\n",
      "110 / 400\n",
      "111 / 400\n",
      "112 / 400\n",
      "113 / 400\n",
      "114 / 400\n",
      "115 / 400\n",
      "116 / 400\n",
      "117 / 400\n",
      "118 / 400\n",
      "119 / 400\n",
      "120 / 400\n",
      "121 / 400\n",
      "122 / 400\n",
      "123 / 400\n",
      "124 / 400\n",
      "125 / 400\n",
      "126 / 400\n",
      "127 / 400\n",
      "128 / 400\n",
      "129 / 400\n",
      "130 / 400\n",
      "131 / 400\n",
      "132 / 400\n",
      "133 / 400\n",
      "134 / 400\n",
      "135 / 400\n",
      "136 / 400\n",
      "137 / 400\n",
      "138 / 400\n",
      "139 / 400\n",
      "140 / 400\n",
      "141 / 400\n",
      "142 / 400\n",
      "143 / 400\n",
      "144 / 400\n",
      "145 / 400\n",
      "146 / 400\n",
      "147 / 400\n",
      "148 / 400\n",
      "149 / 400\n",
      "150 / 400\n",
      "151 / 400\n",
      "152 / 400\n",
      "153 / 400\n",
      "154 / 400\n",
      "155 / 400\n",
      "156 / 400\n",
      "157 / 400\n",
      "158 / 400\n",
      "159 / 400\n",
      "160 / 400\n",
      "161 / 400\n",
      "162 / 400\n",
      "163 / 400\n",
      "164 / 400\n",
      "165 / 400\n",
      "166 / 400\n",
      "167 / 400\n",
      "168 / 400\n",
      "169 / 400\n",
      "170 / 400\n",
      "171 / 400\n",
      "172 / 400\n",
      "173 / 400\n",
      "174 / 400\n",
      "175 / 400\n",
      "176 / 400\n",
      "177 / 400\n",
      "178 / 400\n",
      "179 / 400\n",
      "180 / 400\n",
      "181 / 400\n",
      "182 / 400\n",
      "183 / 400\n",
      "184 / 400\n",
      "185 / 400\n",
      "186 / 400\n",
      "187 / 400\n",
      "188 / 400\n",
      "189 / 400\n",
      "190 / 400\n",
      "191 / 400\n",
      "192 / 400\n",
      "193 / 400\n",
      "194 / 400\n",
      "195 / 400\n",
      "196 / 400\n",
      "197 / 400\n",
      "198 / 400\n",
      "199 / 400\n",
      "200 / 400\n",
      "201 / 400\n",
      "202 / 400\n",
      "203 / 400\n",
      "204 / 400\n",
      "205 / 400\n",
      "206 / 400\n",
      "207 / 400\n",
      "208 / 400\n",
      "209 / 400\n",
      "210 / 400\n",
      "211 / 400\n",
      "212 / 400\n",
      "213 / 400\n",
      "214 / 400\n",
      "215 / 400\n",
      "216 / 400\n",
      "217 / 400\n",
      "218 / 400\n",
      "219 / 400\n",
      "220 / 400\n",
      "221 / 400\n",
      "222 / 400\n",
      "223 / 400\n",
      "224 / 400\n",
      "225 / 400\n",
      "226 / 400\n",
      "227 / 400\n",
      "228 / 400\n",
      "229 / 400\n",
      "230 / 400\n",
      "231 / 400\n",
      "232 / 400\n",
      "233 / 400\n",
      "234 / 400\n",
      "235 / 400\n",
      "236 / 400\n",
      "237 / 400\n",
      "238 / 400\n",
      "239 / 400\n",
      "240 / 400\n",
      "241 / 400\n",
      "242 / 400\n",
      "243 / 400\n",
      "244 / 400\n",
      "245 / 400\n",
      "246 / 400\n",
      "247 / 400\n",
      "248 / 400\n",
      "249 / 400\n",
      "250 / 400\n",
      "251 / 400\n",
      "252 / 400\n",
      "253 / 400\n",
      "254 / 400\n",
      "255 / 400\n",
      "256 / 400\n",
      "257 / 400\n",
      "258 / 400\n",
      "259 / 400\n",
      "260 / 400\n",
      "261 / 400\n",
      "262 / 400\n",
      "263 / 400\n",
      "264 / 400\n",
      "265 / 400\n",
      "266 / 400\n",
      "267 / 400\n",
      "268 / 400\n",
      "269 / 400\n",
      "270 / 400\n",
      "271 / 400\n",
      "272 / 400\n",
      "273 / 400\n",
      "274 / 400\n",
      "275 / 400\n",
      "276 / 400\n",
      "277 / 400\n",
      "278 / 400\n",
      "279 / 400\n",
      "280 / 400\n",
      "281 / 400\n",
      "282 / 400\n",
      "283 / 400\n",
      "284 / 400\n",
      "285 / 400\n",
      "286 / 400\n",
      "287 / 400\n",
      "288 / 400\n",
      "289 / 400\n",
      "290 / 400\n",
      "291 / 400\n",
      "292 / 400\n",
      "293 / 400\n",
      "294 / 400\n",
      "295 / 400\n",
      "296 / 400\n",
      "297 / 400\n",
      "298 / 400\n",
      "299 / 400\n",
      "300 / 400\n",
      "301 / 400\n",
      "302 / 400\n",
      "303 / 400\n",
      "304 / 400\n",
      "305 / 400\n",
      "306 / 400\n",
      "307 / 400\n",
      "308 / 400\n",
      "309 / 400\n",
      "310 / 400\n",
      "311 / 400\n",
      "312 / 400\n",
      "313 / 400\n",
      "314 / 400\n",
      "315 / 400\n",
      "316 / 400\n",
      "317 / 400\n",
      "318 / 400\n",
      "319 / 400\n",
      "320 / 400\n",
      "321 / 400\n",
      "322 / 400\n",
      "323 / 400\n",
      "324 / 400\n",
      "325 / 400\n",
      "326 / 400\n",
      "327 / 400\n",
      "328 / 400\n",
      "329 / 400\n",
      "330 / 400\n",
      "331 / 400\n",
      "332 / 400\n",
      "333 / 400\n",
      "334 / 400\n",
      "335 / 400\n",
      "336 / 400\n",
      "337 / 400\n",
      "338 / 400\n",
      "339 / 400\n",
      "340 / 400\n",
      "341 / 400\n",
      "342 / 400\n",
      "343 / 400\n",
      "344 / 400\n",
      "345 / 400\n",
      "346 / 400\n",
      "347 / 400\n",
      "348 / 400\n",
      "349 / 400\n",
      "350 / 400\n",
      "351 / 400\n",
      "352 / 400\n",
      "353 / 400\n",
      "354 / 400\n",
      "355 / 400\n",
      "356 / 400\n",
      "357 / 400\n",
      "358 / 400\n",
      "359 / 400\n",
      "360 / 400\n",
      "361 / 400\n",
      "362 / 400\n",
      "363 / 400\n",
      "364 / 400\n",
      "365 / 400\n",
      "366 / 400\n",
      "367 / 400\n",
      "368 / 400\n",
      "369 / 400\n",
      "370 / 400\n",
      "371 / 400\n",
      "372 / 400\n",
      "373 / 400\n",
      "374 / 400\n",
      "375 / 400\n",
      "376 / 400\n",
      "377 / 400\n",
      "378 / 400\n",
      "379 / 400\n",
      "380 / 400\n",
      "381 / 400\n",
      "382 / 400\n",
      "383 / 400\n",
      "384 / 400\n",
      "385 / 400\n",
      "386 / 400\n",
      "387 / 400\n",
      "388 / 400\n",
      "389 / 400\n",
      "390 / 400\n",
      "391 / 400\n",
      "392 / 400\n",
      "393 / 400\n",
      "394 / 400\n",
      "395 / 400\n",
      "396 / 400\n",
      "397 / 400\n",
      "398 / 400\n",
      "399 / 400\n",
      "400 / 400\n",
      "Append Begin!\n",
      "(1999999, 10)\n"
     ]
    }
   ],
   "source": [
    "#分段处理call_area_stats_per_city横向展开                        2018.10.25.     15:45-\n",
    "import pandas as pd\n",
    "import math\n",
    "import numpy as np\n",
    "\n",
    "######################################      读取data    #######################################\n",
    "data = pd.read_csv('C:/Users/76000/Desktop/tianchi/oppo/oppo_round1_train_20180929.txt', sep='\\t', header=None,\n",
    "                     names = ['prefix','query_prediction','title','tag','label'])\n",
    "\n",
    "sub_data = data.query_prediction      #sub_data是个Series, 每个记录是个dict\n",
    "\n",
    "\n",
    "#制作Series的index\n",
    "\n",
    "cols = []\n",
    "for i in range(0,10):\n",
    "    temp = 'query_prediction_'+str(i)\n",
    "    cols.append(temp)\n",
    "\n",
    "#分段处理数据\n",
    "\n",
    "######################################    para   #####################################\n",
    "\n",
    "N = data.shape[0]\n",
    "cur = 0 #当前处理行数\n",
    "\n",
    "DFs = []\n",
    "batch_size = 5000.0   #需带小数点，方便batch_num的计算\n",
    "batch_num = math.ceil(N/batch_size)\n",
    "\n",
    "######################################    process    ###################################\n",
    "\n",
    "while cur < N:\n",
    "    sub_cur = 0    \n",
    "    T = pd.DataFrame(columns = cols)\n",
    "    c = 0\n",
    "    while sub_cur < int(batch_size):        #每一段的大小\n",
    "        if cur == N:\n",
    "            break\n",
    "        temp = eval(sub_data[cur])\n",
    "        v = list(temp.values())\n",
    "        V = list(map(float,v))\n",
    "        V = np.array(V)\n",
    "        \n",
    "        z = np.zeros(10-V.shape[0])\n",
    "        val = np.hstack((V,z))\n",
    "        \n",
    "        s = pd.Series(val,index = cols)\n",
    "        T.loc[sub_cur] = s\n",
    "        \n",
    "        sub_cur += 1\n",
    "        cur += 1\n",
    "    DFs.append(T)\n",
    "    print(len(DFs) , '/' , batch_num)\n",
    "print(\"Append Begin!\")  \n",
    "    \n",
    "T = pd.concat(DFs)\n",
    "print(T.shape)\n",
    "\n",
    "##############################################################################\n",
    "\n",
    "#Save\n",
    "#T.to_csv('call_area_stats_per_city_unique_df.csv',index = False)"
   ]
  },
  {
   "cell_type": "code",
   "execution_count": 3,
   "metadata": {},
   "outputs": [
    {
     "data": {
      "text/html": [
       "<div>\n",
       "<style>\n",
       "    .dataframe thead tr:only-child th {\n",
       "        text-align: right;\n",
       "    }\n",
       "\n",
       "    .dataframe thead th {\n",
       "        text-align: left;\n",
       "    }\n",
       "\n",
       "    .dataframe tbody tr th {\n",
       "        vertical-align: top;\n",
       "    }\n",
       "</style>\n",
       "<table border=\"1\" class=\"dataframe\">\n",
       "  <thead>\n",
       "    <tr style=\"text-align: right;\">\n",
       "      <th></th>\n",
       "      <th>query_prediction_0</th>\n",
       "      <th>query_prediction_1</th>\n",
       "      <th>query_prediction_2</th>\n",
       "      <th>query_prediction_3</th>\n",
       "      <th>query_prediction_4</th>\n",
       "      <th>query_prediction_5</th>\n",
       "      <th>query_prediction_6</th>\n",
       "      <th>query_prediction_7</th>\n",
       "      <th>query_prediction_8</th>\n",
       "      <th>query_prediction_9</th>\n",
       "    </tr>\n",
       "  </thead>\n",
       "  <tbody>\n",
       "    <tr>\n",
       "      <th>0</th>\n",
       "      <td>0.009</td>\n",
       "      <td>0.012</td>\n",
       "      <td>0.020</td>\n",
       "      <td>0.066</td>\n",
       "      <td>0.007</td>\n",
       "      <td>0.010</td>\n",
       "      <td>0.198</td>\n",
       "      <td>0.024</td>\n",
       "      <td>0.010</td>\n",
       "      <td>0.017</td>\n",
       "    </tr>\n",
       "    <tr>\n",
       "      <th>1</th>\n",
       "      <td>0.059</td>\n",
       "      <td>0.124</td>\n",
       "      <td>0.029</td>\n",
       "      <td>0.070</td>\n",
       "      <td>0.022</td>\n",
       "      <td>0.042</td>\n",
       "      <td>0.086</td>\n",
       "      <td>0.065</td>\n",
       "      <td>0.023</td>\n",
       "      <td>0.000</td>\n",
       "    </tr>\n",
       "    <tr>\n",
       "      <th>2</th>\n",
       "      <td>0.059</td>\n",
       "      <td>0.124</td>\n",
       "      <td>0.029</td>\n",
       "      <td>0.070</td>\n",
       "      <td>0.022</td>\n",
       "      <td>0.042</td>\n",
       "      <td>0.086</td>\n",
       "      <td>0.065</td>\n",
       "      <td>0.023</td>\n",
       "      <td>0.000</td>\n",
       "    </tr>\n",
       "    <tr>\n",
       "      <th>3</th>\n",
       "      <td>0.012</td>\n",
       "      <td>0.009</td>\n",
       "      <td>0.050</td>\n",
       "      <td>0.045</td>\n",
       "      <td>0.053</td>\n",
       "      <td>0.014</td>\n",
       "      <td>0.059</td>\n",
       "      <td>0.114</td>\n",
       "      <td>0.011</td>\n",
       "      <td>0.037</td>\n",
       "    </tr>\n",
       "    <tr>\n",
       "      <th>4</th>\n",
       "      <td>0.010</td>\n",
       "      <td>0.016</td>\n",
       "      <td>0.009</td>\n",
       "      <td>0.009</td>\n",
       "      <td>0.569</td>\n",
       "      <td>0.016</td>\n",
       "      <td>0.020</td>\n",
       "      <td>0.037</td>\n",
       "      <td>0.040</td>\n",
       "      <td>0.021</td>\n",
       "    </tr>\n",
       "    <tr>\n",
       "      <th>5</th>\n",
       "      <td>0.013</td>\n",
       "      <td>0.007</td>\n",
       "      <td>0.526</td>\n",
       "      <td>0.007</td>\n",
       "      <td>0.435</td>\n",
       "      <td>0.013</td>\n",
       "      <td>0.000</td>\n",
       "      <td>0.000</td>\n",
       "      <td>0.000</td>\n",
       "      <td>0.000</td>\n",
       "    </tr>\n",
       "    <tr>\n",
       "      <th>6</th>\n",
       "      <td>0.001</td>\n",
       "      <td>0.002</td>\n",
       "      <td>0.002</td>\n",
       "      <td>0.012</td>\n",
       "      <td>0.002</td>\n",
       "      <td>0.003</td>\n",
       "      <td>0.023</td>\n",
       "      <td>0.004</td>\n",
       "      <td>0.257</td>\n",
       "      <td>0.025</td>\n",
       "    </tr>\n",
       "    <tr>\n",
       "      <th>7</th>\n",
       "      <td>0.039</td>\n",
       "      <td>0.068</td>\n",
       "      <td>0.047</td>\n",
       "      <td>0.034</td>\n",
       "      <td>0.069</td>\n",
       "      <td>0.015</td>\n",
       "      <td>0.028</td>\n",
       "      <td>0.017</td>\n",
       "      <td>0.027</td>\n",
       "      <td>0.020</td>\n",
       "    </tr>\n",
       "    <tr>\n",
       "      <th>8</th>\n",
       "      <td>0.013</td>\n",
       "      <td>0.007</td>\n",
       "      <td>0.526</td>\n",
       "      <td>0.007</td>\n",
       "      <td>0.435</td>\n",
       "      <td>0.013</td>\n",
       "      <td>0.000</td>\n",
       "      <td>0.000</td>\n",
       "      <td>0.000</td>\n",
       "      <td>0.000</td>\n",
       "    </tr>\n",
       "    <tr>\n",
       "      <th>9</th>\n",
       "      <td>0.027</td>\n",
       "      <td>0.016</td>\n",
       "      <td>0.101</td>\n",
       "      <td>0.038</td>\n",
       "      <td>0.084</td>\n",
       "      <td>0.220</td>\n",
       "      <td>0.022</td>\n",
       "      <td>0.019</td>\n",
       "      <td>0.013</td>\n",
       "      <td>0.000</td>\n",
       "    </tr>\n",
       "  </tbody>\n",
       "</table>\n",
       "</div>"
      ],
      "text/plain": [
       "   query_prediction_0  query_prediction_1  query_prediction_2  \\\n",
       "0               0.009               0.012               0.020   \n",
       "1               0.059               0.124               0.029   \n",
       "2               0.059               0.124               0.029   \n",
       "3               0.012               0.009               0.050   \n",
       "4               0.010               0.016               0.009   \n",
       "5               0.013               0.007               0.526   \n",
       "6               0.001               0.002               0.002   \n",
       "7               0.039               0.068               0.047   \n",
       "8               0.013               0.007               0.526   \n",
       "9               0.027               0.016               0.101   \n",
       "\n",
       "   query_prediction_3  query_prediction_4  query_prediction_5  \\\n",
       "0               0.066               0.007               0.010   \n",
       "1               0.070               0.022               0.042   \n",
       "2               0.070               0.022               0.042   \n",
       "3               0.045               0.053               0.014   \n",
       "4               0.009               0.569               0.016   \n",
       "5               0.007               0.435               0.013   \n",
       "6               0.012               0.002               0.003   \n",
       "7               0.034               0.069               0.015   \n",
       "8               0.007               0.435               0.013   \n",
       "9               0.038               0.084               0.220   \n",
       "\n",
       "   query_prediction_6  query_prediction_7  query_prediction_8  \\\n",
       "0               0.198               0.024               0.010   \n",
       "1               0.086               0.065               0.023   \n",
       "2               0.086               0.065               0.023   \n",
       "3               0.059               0.114               0.011   \n",
       "4               0.020               0.037               0.040   \n",
       "5               0.000               0.000               0.000   \n",
       "6               0.023               0.004               0.257   \n",
       "7               0.028               0.017               0.027   \n",
       "8               0.000               0.000               0.000   \n",
       "9               0.022               0.019               0.013   \n",
       "\n",
       "   query_prediction_9  \n",
       "0               0.017  \n",
       "1               0.000  \n",
       "2               0.000  \n",
       "3               0.037  \n",
       "4               0.021  \n",
       "5               0.000  \n",
       "6               0.025  \n",
       "7               0.020  \n",
       "8               0.000  \n",
       "9               0.000  "
      ]
     },
     "execution_count": 3,
     "metadata": {},
     "output_type": "execute_result"
    }
   ],
   "source": [
    "T.head(10)"
   ]
  },
  {
   "cell_type": "code",
   "execution_count": 15,
   "metadata": {},
   "outputs": [
    {
     "data": {
      "text/html": [
       "<div>\n",
       "<style>\n",
       "    .dataframe thead tr:only-child th {\n",
       "        text-align: right;\n",
       "    }\n",
       "\n",
       "    .dataframe thead th {\n",
       "        text-align: left;\n",
       "    }\n",
       "\n",
       "    .dataframe tbody tr th {\n",
       "        vertical-align: top;\n",
       "    }\n",
       "</style>\n",
       "<table border=\"1\" class=\"dataframe\">\n",
       "  <thead>\n",
       "    <tr style=\"text-align: right;\">\n",
       "      <th></th>\n",
       "      <th>query_prediction_0</th>\n",
       "      <th>query_prediction_1</th>\n",
       "      <th>query_prediction_2</th>\n",
       "      <th>query_prediction_3</th>\n",
       "      <th>query_prediction_4</th>\n",
       "      <th>query_prediction_5</th>\n",
       "      <th>query_prediction_6</th>\n",
       "      <th>query_prediction_7</th>\n",
       "      <th>query_prediction_8</th>\n",
       "      <th>query_prediction_9</th>\n",
       "      <th>RATE</th>\n",
       "    </tr>\n",
       "  </thead>\n",
       "  <tbody>\n",
       "    <tr>\n",
       "      <th>0</th>\n",
       "      <td>0.009</td>\n",
       "      <td>0.012</td>\n",
       "      <td>0.020</td>\n",
       "      <td>0.066</td>\n",
       "      <td>0.007</td>\n",
       "      <td>0.010</td>\n",
       "      <td>0.198</td>\n",
       "      <td>0.024</td>\n",
       "      <td>0.010</td>\n",
       "      <td>0.017</td>\n",
       "      <td>0.313676</td>\n",
       "    </tr>\n",
       "    <tr>\n",
       "      <th>1</th>\n",
       "      <td>0.059</td>\n",
       "      <td>0.124</td>\n",
       "      <td>0.029</td>\n",
       "      <td>0.070</td>\n",
       "      <td>0.022</td>\n",
       "      <td>0.042</td>\n",
       "      <td>0.086</td>\n",
       "      <td>0.065</td>\n",
       "      <td>0.023</td>\n",
       "      <td>0.000</td>\n",
       "      <td>0.341615</td>\n",
       "    </tr>\n",
       "    <tr>\n",
       "      <th>2</th>\n",
       "      <td>0.059</td>\n",
       "      <td>0.124</td>\n",
       "      <td>0.029</td>\n",
       "      <td>0.070</td>\n",
       "      <td>0.022</td>\n",
       "      <td>0.042</td>\n",
       "      <td>0.086</td>\n",
       "      <td>0.065</td>\n",
       "      <td>0.023</td>\n",
       "      <td>0.000</td>\n",
       "      <td>0.437017</td>\n",
       "    </tr>\n",
       "    <tr>\n",
       "      <th>3</th>\n",
       "      <td>0.012</td>\n",
       "      <td>0.009</td>\n",
       "      <td>0.050</td>\n",
       "      <td>0.045</td>\n",
       "      <td>0.053</td>\n",
       "      <td>0.014</td>\n",
       "      <td>0.059</td>\n",
       "      <td>0.114</td>\n",
       "      <td>0.011</td>\n",
       "      <td>0.037</td>\n",
       "      <td>0.454706</td>\n",
       "    </tr>\n",
       "    <tr>\n",
       "      <th>4</th>\n",
       "      <td>0.010</td>\n",
       "      <td>0.016</td>\n",
       "      <td>0.009</td>\n",
       "      <td>0.009</td>\n",
       "      <td>0.569</td>\n",
       "      <td>0.016</td>\n",
       "      <td>0.020</td>\n",
       "      <td>0.037</td>\n",
       "      <td>0.040</td>\n",
       "      <td>0.021</td>\n",
       "      <td>0.437017</td>\n",
       "    </tr>\n",
       "    <tr>\n",
       "      <th>5</th>\n",
       "      <td>0.013</td>\n",
       "      <td>0.007</td>\n",
       "      <td>0.526</td>\n",
       "      <td>0.007</td>\n",
       "      <td>0.435</td>\n",
       "      <td>0.013</td>\n",
       "      <td>0.000</td>\n",
       "      <td>0.000</td>\n",
       "      <td>0.000</td>\n",
       "      <td>0.000</td>\n",
       "      <td>0.437017</td>\n",
       "    </tr>\n",
       "    <tr>\n",
       "      <th>6</th>\n",
       "      <td>0.001</td>\n",
       "      <td>0.002</td>\n",
       "      <td>0.002</td>\n",
       "      <td>0.012</td>\n",
       "      <td>0.002</td>\n",
       "      <td>0.003</td>\n",
       "      <td>0.023</td>\n",
       "      <td>0.004</td>\n",
       "      <td>0.257</td>\n",
       "      <td>0.025</td>\n",
       "      <td>0.395156</td>\n",
       "    </tr>\n",
       "    <tr>\n",
       "      <th>7</th>\n",
       "      <td>0.039</td>\n",
       "      <td>0.068</td>\n",
       "      <td>0.047</td>\n",
       "      <td>0.034</td>\n",
       "      <td>0.069</td>\n",
       "      <td>0.015</td>\n",
       "      <td>0.028</td>\n",
       "      <td>0.017</td>\n",
       "      <td>0.027</td>\n",
       "      <td>0.020</td>\n",
       "      <td>0.506395</td>\n",
       "    </tr>\n",
       "    <tr>\n",
       "      <th>8</th>\n",
       "      <td>0.013</td>\n",
       "      <td>0.007</td>\n",
       "      <td>0.526</td>\n",
       "      <td>0.007</td>\n",
       "      <td>0.435</td>\n",
       "      <td>0.013</td>\n",
       "      <td>0.000</td>\n",
       "      <td>0.000</td>\n",
       "      <td>0.000</td>\n",
       "      <td>0.000</td>\n",
       "      <td>0.506395</td>\n",
       "    </tr>\n",
       "    <tr>\n",
       "      <th>9</th>\n",
       "      <td>0.027</td>\n",
       "      <td>0.016</td>\n",
       "      <td>0.101</td>\n",
       "      <td>0.038</td>\n",
       "      <td>0.084</td>\n",
       "      <td>0.220</td>\n",
       "      <td>0.022</td>\n",
       "      <td>0.019</td>\n",
       "      <td>0.013</td>\n",
       "      <td>0.000</td>\n",
       "      <td>0.437017</td>\n",
       "    </tr>\n",
       "  </tbody>\n",
       "</table>\n",
       "</div>"
      ],
      "text/plain": [
       "   query_prediction_0  query_prediction_1  query_prediction_2  \\\n",
       "0               0.009               0.012               0.020   \n",
       "1               0.059               0.124               0.029   \n",
       "2               0.059               0.124               0.029   \n",
       "3               0.012               0.009               0.050   \n",
       "4               0.010               0.016               0.009   \n",
       "5               0.013               0.007               0.526   \n",
       "6               0.001               0.002               0.002   \n",
       "7               0.039               0.068               0.047   \n",
       "8               0.013               0.007               0.526   \n",
       "9               0.027               0.016               0.101   \n",
       "\n",
       "   query_prediction_3  query_prediction_4  query_prediction_5  \\\n",
       "0               0.066               0.007               0.010   \n",
       "1               0.070               0.022               0.042   \n",
       "2               0.070               0.022               0.042   \n",
       "3               0.045               0.053               0.014   \n",
       "4               0.009               0.569               0.016   \n",
       "5               0.007               0.435               0.013   \n",
       "6               0.012               0.002               0.003   \n",
       "7               0.034               0.069               0.015   \n",
       "8               0.007               0.435               0.013   \n",
       "9               0.038               0.084               0.220   \n",
       "\n",
       "   query_prediction_6  query_prediction_7  query_prediction_8  \\\n",
       "0               0.198               0.024               0.010   \n",
       "1               0.086               0.065               0.023   \n",
       "2               0.086               0.065               0.023   \n",
       "3               0.059               0.114               0.011   \n",
       "4               0.020               0.037               0.040   \n",
       "5               0.000               0.000               0.000   \n",
       "6               0.023               0.004               0.257   \n",
       "7               0.028               0.017               0.027   \n",
       "8               0.000               0.000               0.000   \n",
       "9               0.022               0.019               0.013   \n",
       "\n",
       "   query_prediction_9      RATE  \n",
       "0               0.017  0.313676  \n",
       "1               0.000  0.341615  \n",
       "2               0.000  0.437017  \n",
       "3               0.037  0.454706  \n",
       "4               0.021  0.437017  \n",
       "5               0.000  0.437017  \n",
       "6               0.025  0.395156  \n",
       "7               0.020  0.506395  \n",
       "8               0.000  0.506395  \n",
       "9               0.000  0.437017  "
      ]
     },
     "execution_count": 15,
     "metadata": {},
     "output_type": "execute_result"
    }
   ],
   "source": [
    "T['RATE'] = rate.values\n",
    "T.head(10)"
   ]
  },
  {
   "cell_type": "code",
   "execution_count": 16,
   "metadata": {},
   "outputs": [],
   "source": [
    "T.to_csv('train_x_11.csv', index = False)"
   ]
  },
  {
   "cell_type": "code",
   "execution_count": 20,
   "metadata": {},
   "outputs": [
    {
     "data": {
      "image/png": "[encoded data removed]",
      "text/plain": [
       "<matplotlib.figure.Figure at 0x2ac6efcd080>"
      ]
     },
     "metadata": {},
     "output_type": "display_data"
    }
   ],
   "source": [
    "import pandas as pd\n",
    "import numpy as np\n",
    "import matplotlib.pyplot as plt\n",
    "import seaborn as sns\n",
    "\n",
    "x = pd.read_csv('C:/Users/76000/Desktop/tianchi/oppo/train_x_11.csv')\n",
    "y = pd.read_csv('C:/Users/76000/Desktop/tianchi/oppo/train_y.csv')\n",
    "\n",
    "x['LABEL'] = y.values\n",
    "cormat = x.corr()\n",
    "f, ax = plt.subplots(figsize = (10,7))\n",
    "sns.heatmap(cormat, annot = True, linewidths = 0.05, ax = ax)\n",
    "plt.show()"
   ]
  },
  {
   "cell_type": "code",
   "execution_count": 1,
   "metadata": {},
   "outputs": [
    {
     "name": "stderr",
     "output_type": "stream",
     "text": [
      "E:\\Anaconda3\\envs\\tensorflow-gpu\\lib\\site-packages\\IPython\\core\\interactiveshell.py:2698: DtypeWarning: Columns (4) have mixed types. Specify dtype option on import or set low_memory=False.\n",
      "  interactivity=interactivity, compiler=compiler, result=result)\n"
     ]
    },
    {
     "data": {
      "text/html": [
       "<div>\n",
       "<style>\n",
       "    .dataframe thead tr:only-child th {\n",
       "        text-align: right;\n",
       "    }\n",
       "\n",
       "    .dataframe thead th {\n",
       "        text-align: left;\n",
       "    }\n",
       "\n",
       "    .dataframe tbody tr th {\n",
       "        vertical-align: top;\n",
       "    }\n",
       "</style>\n",
       "<table border=\"1\" class=\"dataframe\">\n",
       "  <thead>\n",
       "    <tr style=\"text-align: right;\">\n",
       "      <th></th>\n",
       "      <th>prefix</th>\n",
       "      <th>query_prediction</th>\n",
       "      <th>title</th>\n",
       "      <th>tag</th>\n",
       "      <th>label</th>\n",
       "    </tr>\n",
       "  </thead>\n",
       "  <tbody>\n",
       "    <tr>\n",
       "      <th>0</th>\n",
       "      <td>小品</td>\n",
       "      <td>{\"小品大全宋小宝\": \"0.009\", \"小品相亲\": \"0.012\", \"小品剧本\": ...</td>\n",
       "      <td>小品</td>\n",
       "      <td>阅读</td>\n",
       "      <td>0</td>\n",
       "    </tr>\n",
       "    <tr>\n",
       "      <th>1</th>\n",
       "      <td>1368</td>\n",
       "      <td>{\"13688cc赛马会\": \"0.059\", \"13685367892\": \"0.124\"...</td>\n",
       "      <td>HCG大于1368%2C正常吗</td>\n",
       "      <td>健康</td>\n",
       "      <td>0</td>\n",
       "    </tr>\n",
       "    <tr>\n",
       "      <th>2</th>\n",
       "      <td>1368</td>\n",
       "      <td>{\"13688cc赛马会\": \"0.059\", \"13685367892\": \"0.124\"...</td>\n",
       "      <td>1368年</td>\n",
       "      <td>百科</td>\n",
       "      <td>1</td>\n",
       "    </tr>\n",
       "    <tr>\n",
       "      <th>3</th>\n",
       "      <td>银耳</td>\n",
       "      <td>{\"银耳汤的功效\": \"0.012\", \"银耳为什么不能天天吃\": \"0.009\", \"银耳...</td>\n",
       "      <td>银耳红枣汤的做法</td>\n",
       "      <td>菜谱</td>\n",
       "      <td>1</td>\n",
       "    </tr>\n",
       "    <tr>\n",
       "      <th>4</th>\n",
       "      <td>月经量少</td>\n",
       "      <td>{\"月经量少喝红糖水好吗\": \"0.010\", \"月经量少该怎么调理\": \"0.016\", ...</td>\n",
       "      <td>月经量少怎么调理</td>\n",
       "      <td>百科</td>\n",
       "      <td>0</td>\n",
       "    </tr>\n",
       "  </tbody>\n",
       "</table>\n",
       "</div>"
      ],
      "text/plain": [
       "  prefix                                   query_prediction            title  \\\n",
       "0     小品  {\"小品大全宋小宝\": \"0.009\", \"小品相亲\": \"0.012\", \"小品剧本\": ...               小品   \n",
       "1   1368  {\"13688cc赛马会\": \"0.059\", \"13685367892\": \"0.124\"...  HCG大于1368%2C正常吗   \n",
       "2   1368  {\"13688cc赛马会\": \"0.059\", \"13685367892\": \"0.124\"...            1368年   \n",
       "3     银耳  {\"银耳汤的功效\": \"0.012\", \"银耳为什么不能天天吃\": \"0.009\", \"银耳...         银耳红枣汤的做法   \n",
       "4   月经量少  {\"月经量少喝红糖水好吗\": \"0.010\", \"月经量少该怎么调理\": \"0.016\", ...         月经量少怎么调理   \n",
       "\n",
       "  tag label  \n",
       "0  阅读     0  \n",
       "1  健康     0  \n",
       "2  百科     1  \n",
       "3  菜谱     1  \n",
       "4  百科     0  "
      ]
     },
     "execution_count": 1,
     "metadata": {},
     "output_type": "execute_result"
    }
   ],
   "source": [
    "import pandas as pd\n",
    "import numpy as np\n",
    "\n",
    "data = pd.read_csv('C:/Users/76000/Desktop/tianchi/oppo/oppo_round1_train_20180929.txt', sep='\\t', header=None,\n",
    "                     names = ['prefix','query_prediction','title','tag','label'])\n",
    "\n",
    "data.head()"
   ]
  },
  {
   "cell_type": "code",
   "execution_count": 2,
   "metadata": {},
   "outputs": [],
   "source": [
    "tag_list = list(data.tag.unique())\n",
    "\n",
    "bar_count = np.zeros((len(data.tag.unique()),2))\n",
    "\n",
    "for i in range(0,data.shape[0]):\n",
    "    t = data.loc[i].tag\n",
    "    l = data.loc[i].label\n",
    "    index = tag_list.index(t)\n",
    "    if l == 0:\n",
    "        bar_count[index][0] += 1\n",
    "    else:\n",
    "        bar_count[index][1] += 1"
   ]
  },
  {
   "cell_type": "code",
   "execution_count": null,
   "metadata": {},
   "outputs": [],
   "source": []
  }
 ],
 "metadata": {
  "kernelspec": {
   "display_name": "Python 3",
   "language": "python",
   "name": "python3"
  },
  "language_info": {
   "codemirror_mode": {
    "name": "ipython",
    "version": 3
   },
   "file_extension": ".py",
   "mimetype": "text/x-python",
   "name": "python",
   "nbconvert_exporter": "python",
   "pygments_lexer": "ipython3",
   "version": "3.6.6"
  }
 },
 "nbformat": 4,
 "nbformat_minor": 2
}
